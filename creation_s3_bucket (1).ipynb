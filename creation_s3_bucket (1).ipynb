{
 "cells": [
  {
   "cell_type": "code",
   "execution_count": 1,
   "id": "5609e49a",
   "metadata": {
    "scrolled": true
   },
   "outputs": [
    {
     "name": "stdout",
     "output_type": "stream",
     "text": [
      "Requirement already satisfied: boto3 in c:\\users\\harsha\\anaconda3\\lib\\site-packages (1.24.28)\n",
      "Requirement already satisfied: botocore<1.28.0,>=1.27.28 in c:\\users\\harsha\\anaconda3\\lib\\site-packages (from boto3) (1.27.28)\n",
      "Requirement already satisfied: jmespath<2.0.0,>=0.7.1 in c:\\users\\harsha\\anaconda3\\lib\\site-packages (from boto3) (0.10.0)\n",
      "Requirement already satisfied: s3transfer<0.7.0,>=0.6.0 in c:\\users\\harsha\\anaconda3\\lib\\site-packages (from boto3) (0.6.0)\n",
      "Requirement already satisfied: python-dateutil<3.0.0,>=2.1 in c:\\users\\harsha\\anaconda3\\lib\\site-packages (from botocore<1.28.0,>=1.27.28->boto3) (2.8.2)\n",
      "Requirement already satisfied: urllib3<1.27,>=1.25.4 in c:\\users\\harsha\\anaconda3\\lib\\site-packages (from botocore<1.28.0,>=1.27.28->boto3) (1.26.11)\n",
      "Requirement already satisfied: six>=1.5 in c:\\users\\harsha\\anaconda3\\lib\\site-packages (from python-dateutil<3.0.0,>=2.1->botocore<1.28.0,>=1.27.28->boto3) (1.16.0)\n",
      "Note: you may need to restart the kernel to use updated packages.\n"
     ]
    }
   ],
   "source": [
    "pip install boto3"
   ]
  },
  {
   "cell_type": "code",
   "execution_count": null,
   "id": "e9a2d1bc",
   "metadata": {},
   "outputs": [],
   "source": [
    "import boto3\n",
    "s3=boto3.client(\"s3\")"
   ]
  },
  {
   "cell_type": "markdown",
   "id": "e74007f8",
   "metadata": {},
   "source": [
    "# Create An S3 Bucket"
   ]
  },
  {
   "cell_type": "code",
   "execution_count": null,
   "id": "55f0f355",
   "metadata": {},
   "outputs": [],
   "source": [
    "bucket_name=\"mynlpmru\"\n",
    "s3.create_bucket(\n",
    "     Bucket=bucket_name,\n",
    "     CreateBucketConfiguration={\"LocationConstraint\":\"eu-north-1\"}\n",
    ")\n",
    "print(f\"Bucket '{bucket_name}' created Sucessfully!\")"
   ]
  },
  {
   "cell_type": "markdown",
   "id": "0a4ef827",
   "metadata": {},
   "source": [
    "# List Buckets"
   ]
  },
  {
   "cell_type": "code",
   "execution_count": null,
   "id": "7fda0b87",
   "metadata": {},
   "outputs": [],
   "source": [
    "response=s3.list_buckets()\n",
    "\n",
    "print(\"Existing Buckets:\")\n",
    "for bucket in response[\"Buckets\"]:\n",
    "    print(f\"-{bucket['Name']}\")"
   ]
  },
  {
   "cell_type": "code",
   "execution_count": null,
   "id": "f7108598",
   "metadata": {},
   "outputs": [],
   "source": [
    "mport boto3\n",
    "s3_client=boto3.client(\"s3\")\n",
    "s3_client.upload_file(\"test.txt\",\"mynlpmru\",\"dat/textfile1.txt\")\n",
    "print(\"upload successful\")"
   ]
  },
  {
   "cell_type": "code",
   "execution_count": null,
   "id": "fb04596c",
   "metadata": {},
   "outputs": [],
   "source": [
    "s3_client.download_file(\"mynlpmru\",\"data/textfile1.txt\")\n",
    "print(\"Download successful\")"
   ]
  },
  {
   "cell_type": "code",
   "execution_count": null,
   "id": "1a98f4a2",
   "metadata": {},
   "outputs": [],
   "source": [
    "response=s3.list_objects_v2(Bucket=\"mynlpmru\")\n",
    "\n",
    "print(\"Files in bucket:\")\n",
    "if \"contents\" in response:\n",
    "    for obj in response[\"Contents\"]:\n",
    "        print(f\"-{obj['Key']}(Size: {obj['size']} bytes\")\n",
    "else:\n",
    "    print(\"Bucket is empty\")"
   ]
  },
  {
   "cell_type": "code",
   "execution_count": null,
   "id": "4a9134bb",
   "metadata": {},
   "outputs": [],
   "source": [
    "s3.delete_object(Bucket=\"mynlpmru\",key=\"data/textfile.txt\")\n",
    "print(\"File deleted successfully!\")"
   ]
  },
  {
   "cell_type": "code",
   "execution_count": null,
   "id": "37bcb062",
   "metadata": {},
   "outputs": [],
   "source": [
    "s3.put_bucket_versioning(Bucket=\"mynlpmru\",VersioningConfiguration={\"Status\":\"Enabled\"})\n",
    "print(\"Bucket versioningn enabled.\")"
   ]
  },
  {
   "cell_type": "code",
   "execution_count": null,
   "id": "5ee19e20",
   "metadata": {},
   "outputs": [],
   "source": [
    "copy_source={\"Bucket\":\"mynlpmru\",\n",
    "            \"key\":\"data/textfile.txt\"}\n",
    "s3.copy_object(CopySource=copy_source,Bucket=\"mynlpmru\",\n",
    "              key=\"data/copied_textfile1.txt\")\n",
    "print(\"file copied successfully\")"
   ]
  },
  {
   "cell_type": "code",
   "execution_count": null,
   "id": "f757db59",
   "metadata": {},
   "outputs": [],
   "source": []
  }
 ],
 "metadata": {
  "kernelspec": {
   "display_name": "Python 3 (ipykernel)",
   "language": "python",
   "name": "python3"
  },
  "language_info": {
   "codemirror_mode": {
    "name": "ipython",
    "version": 3
   },
   "file_extension": ".py",
   "mimetype": "text/x-python",
   "name": "python",
   "nbconvert_exporter": "python",
   "pygments_lexer": "ipython3",
   "version": "3.9.13"
  }
 },
 "nbformat": 4,
 "nbformat_minor": 5
}
