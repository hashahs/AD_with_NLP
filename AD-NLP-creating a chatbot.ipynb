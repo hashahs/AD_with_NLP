{
 "cells": [
  {
   "cell_type": "code",
   "execution_count": 1,
   "id": "86848824",
   "metadata": {},
   "outputs": [],
   "source": [
    "import io\n",
    "import random\n",
    "import string\n",
    "import warnings\n",
    "warnings.filterwarnings('ignore')\n",
    "import numpy as np\n",
    "from sklearn.metrics.pairwise import cosine_similarity\n",
    "import nltk\n",
    "from nltk.stem import WordNetLemmatizer"
   ]
  },
  {
   "cell_type": "code",
   "execution_count": 2,
   "id": "cfc1d9ea",
   "metadata": {},
   "outputs": [
    {
     "name": "stderr",
     "output_type": "stream",
     "text": [
      "[nltk_data] Downloading package punkt to\n",
      "[nltk_data]     C:\\Users\\Harsha\\AppData\\Roaming\\nltk_data...\n",
      "[nltk_data]   Package punkt is already up-to-date!\n",
      "[nltk_data] Downloading package wordnet to\n",
      "[nltk_data]     C:\\Users\\Harsha\\AppData\\Roaming\\nltk_data...\n",
      "[nltk_data]   Package wordnet is already up-to-date!\n"
     ]
    },
    {
     "data": {
      "text/plain": [
       "True"
      ]
     },
     "execution_count": 2,
     "metadata": {},
     "output_type": "execute_result"
    }
   ],
   "source": [
    "nltk.download('popular', quiet=True)\n",
    "nltk.download('punkt')\n",
    "nltk.download('wordnet')"
   ]
  },
  {
   "cell_type": "code",
   "execution_count": 3,
   "id": "fc9dc543",
   "metadata": {},
   "outputs": [],
   "source": [
    "f=open('input.txt','r',errors='ignore')\n",
    "raw=f.read()\n",
    "raw=raw.lower()"
   ]
  },
  {
   "cell_type": "code",
   "execution_count": 4,
   "id": "40e9cb6d",
   "metadata": {},
   "outputs": [],
   "source": [
    "import nltk\n",
    "sent_tokens=nltk.sent_tokenize(raw)\n",
    "word_tokens=nltk.word_tokenize(raw)"
   ]
  },
  {
   "cell_type": "code",
   "execution_count": 5,
   "id": "22b7206c",
   "metadata": {},
   "outputs": [],
   "source": [
    "lemmer =nltk.stem.WordNetLemmatizer()\n",
    "\n",
    "def LemTokens(tokens):\n",
    "    return [lemmer.lemmatize(token) for token in tokens]\n",
    "remove_punct_dict=dict((ord(punct), None) for punct in string.punctuation)\n",
    "\n",
    "def LemNormalize(text):\n",
    "    return LemTokens(nltk.word_tokenize(text.lower().translate(remove_punct_dict)))"
   ]
  },
  {
   "cell_type": "code",
   "execution_count": 6,
   "id": "6a31d93b",
   "metadata": {},
   "outputs": [
    {
     "data": {
      "text/plain": [
       "'i am fine! How about you?'"
      ]
     },
     "execution_count": 6,
     "metadata": {},
     "output_type": "execute_result"
    }
   ],
   "source": [
    "GREETING_INPUTS=(\"hello\",\"hi\",\"greetings\",\"what's up\",\"hey\",\\\n",
    "                 \"how are you?\")\n",
    "GREETING_RESPONSES=(\"hi\",\"hey\",\"hi there\",\"hello\",\\\n",
    "                    \"i am glad! You are talking to me\",\\\n",
    "                    \"i am fine! How about you?\")\n",
    "\n",
    "def greeting(sentence):\n",
    "    for word in sentence.split():\n",
    "        if word.lower()in GREETING_INPUTS:\n",
    "            return\n",
    "random.choice(GREETING_RESPONSES)"
   ]
  },
  {
   "cell_type": "code",
   "execution_count": 7,
   "id": "ff9d3382",
   "metadata": {},
   "outputs": [],
   "source": [
    "def response(user_response):\n",
    "    robo_response=''\n",
    "    sent_tokens.append(user_response)\n",
    "    TfidfVec=TfidfVectorizer(tokenizer=LemNormalizer, stop_words='english')\n",
    "    tfidf=TfidfVec.fit_transform(sent_tokens)\n",
    "    vals=cosine_similarity(tfidf[-1],tfidf)\n",
    "    idx=vals.argsort()[0][-2]\n",
    "    flat=vals.flatten()\n",
    "    req_tfidf=flat[-2]\n",
    "    if(req_tfidf == 0):\n",
    "        robo_response=robo_response+\"I am sorry! i don't understand you.\"\n",
    "    else:\n",
    "        robo_response=robo_response+sent_tokens[idx]\n",
    "        \n",
    "        return robo_response"
   ]
  },
  {
   "cell_type": "code",
   "execution_count": null,
   "id": "f0c73d4e",
   "metadata": {},
   "outputs": [
    {
     "name": "stdout",
     "output_type": "stream",
     "text": [
      "SABot:My name is SABot. How can i assist you?.if you want to exit, type bye!\n",
      "hi\n",
      "SABot:how are you\n",
      "SABot:"
     ]
    }
   ],
   "source": [
    "flag=True\n",
    "print(\"SABot:My name is SABot. How can i assist you?.\"\\\n",
    "      \"if you want to exit, type bye!\")\n",
    "while(flag==True):\n",
    "    user_response=input()\n",
    "    user_response=user_response.lower()\n",
    "    if(user_response!='bye'):\n",
    "        if(user_response=='thanks' or user_response=='thank you'):\n",
    "            flag=False\n",
    "            print(\"SABot:You are welcome...\")\n",
    "        else:\n",
    "            if (greeting(user_response)!=None):\n",
    "                print(\"SABot:\"+greeting(user_response))\n",
    "            else:\n",
    "                print(\"SABot:\",end=\"\")\n",
    "      "
   ]
  },
  {
   "cell_type": "code",
   "execution_count": null,
   "id": "70a0d0b6",
   "metadata": {},
   "outputs": [],
   "source": []
  }
 ],
 "metadata": {
  "kernelspec": {
   "display_name": "Python 3 (ipykernel)",
   "language": "python",
   "name": "python3"
  },
  "language_info": {
   "codemirror_mode": {
    "name": "ipython",
    "version": 3
   },
   "file_extension": ".py",
   "mimetype": "text/x-python",
   "name": "python",
   "nbconvert_exporter": "python",
   "pygments_lexer": "ipython3",
   "version": "3.9.13"
  }
 },
 "nbformat": 4,
 "nbformat_minor": 5
}
