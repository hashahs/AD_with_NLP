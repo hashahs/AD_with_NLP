{
  "nbformat": 4,
  "nbformat_minor": 0,
  "metadata": {
    "colab": {
      "provenance": [],
      "authorship_tag": "ABX9TyM4kwMp9u5P+KJETUC5lnkC",
      "include_colab_link": true
    },
    "kernelspec": {
      "name": "python3",
      "display_name": "Python 3"
    },
    "language_info": {
      "name": "python"
    }
  },
  "cells": [
    {
      "cell_type": "markdown",
      "metadata": {
        "id": "view-in-github",
        "colab_type": "text"
      },
      "source": [
        "<a href=\"https://colab.research.google.com/github/hashahs/AD_with_NLP/blob/main/16_Gemini_ai_pdf_health_report_analysis.ipynb\" target=\"_parent\"><img src=\"https://colab.research.google.com/assets/colab-badge.svg\" alt=\"Open In Colab\"/></a>"
      ]
    },
    {
      "cell_type": "code",
      "execution_count": 1,
      "metadata": {
        "id": "9yPNcBCo_AIU"
      },
      "outputs": [],
      "source": [
        "import google.generativeai as genai\n",
        "from google.colab import userdata\n",
        "\n",
        "GOOGLE_API_KEY=userdata.get('GOOGLE_API_KEY')\n",
        "genai.configure(api_key=GOOGLE_API_KEY)"
      ]
    },
    {
      "cell_type": "code",
      "source": [
        "%pip install PyPDF2"
      ],
      "metadata": {
        "colab": {
          "base_uri": "https://localhost:8080/"
        },
        "id": "jx8nQ6nI_5DN",
        "outputId": "45368457-07b3-4639-a56b-72d6f1919669"
      },
      "execution_count": 4,
      "outputs": [
        {
          "output_type": "stream",
          "name": "stdout",
          "text": [
            "Requirement already satisfied: PyPDF2 in /usr/local/lib/python3.11/dist-packages (3.0.1)\n"
          ]
        }
      ]
    },
    {
      "cell_type": "code",
      "source": [
        "import PyPDF2\n",
        "\n",
        "def extract_text_from_pdf(health_report):\n",
        "  \"\"\" Extracts text from a given health report PDF using PyPDF2.\"\"\"\n",
        "  text = \"\"\n",
        "  with open(health_report, 'rb') as file:\n",
        "    reader = PyPDF2.PdfReader(file)\n",
        "    for page in reader.pages:\n",
        "      text += page.extract_text()+\"\\n\"\n",
        "      return text"
      ],
      "metadata": {
        "id": "dg1HgnTBAOW5"
      },
      "execution_count": 6,
      "outputs": []
    },
    {
      "cell_type": "code",
      "source": [
        "def extract_health_insights(text):\n",
        "  \"\"\" Asks Gemini AI to extract key medical insights from the report.\"\"\"\n",
        "  model=genai.GenerativeModel(\"gemini-1.5-flash\")\n",
        "  prompt=f\"Extract key insights from the following health report:\\n\\n{text}\"\n",
        "  response=model.generate_content(prompt)\n",
        "  return response.text\n",
        "\n",
        "pdf_file=\"health_report.pdf\"\n",
        "extracted_text=extract_text_from_pdf(pdf_file)\n",
        "insights=extract_health_insights(extracted_text)\n",
        "print(\"Key Insights:\\n\",insights)"
      ],
      "metadata": {
        "colab": {
          "base_uri": "https://localhost:8080/",
          "height": 245
        },
        "id": "cVOJbHtDB9rC",
        "outputId": "c9835e49-1aff-4043-9d49-1fc55dbc9436"
      },
      "execution_count": 7,
      "outputs": [
        {
          "output_type": "stream",
          "name": "stdout",
          "text": [
            "Key Insights:\n",
            " The key insight from the Widal test report for Mr. Kishan Goud (MR2100003157) is evidence of a past or present *Salmonella Typhi* infection.\n",
            "\n",
            "Specifically:\n",
            "\n",
            "* **Elevated *Salmonella Typhi* antibodies:**  The titers for both \"O\" (1:160) and \"H\" (1:80) antigens are significantly higher than the reference range (1:20).  This suggests exposure to *Salmonella Typhi*, the bacteria that causes typhoid fever.  The \"O\" antigen result is particularly noteworthy as it's eight times higher than the reference range, indicating a more substantial immune response.\n",
            "\n",
            "* **Negative or borderline *Salmonella Paratyphi* antibodies:** The titers for both *Salmonella Paratyphi* \"A\" and \"B\" antigens are within the reference range (1:20), indicating no evidence of infection with these bacteria.\n",
            "\n",
            "\n",
            "**Important Note:**  While the results suggest *Salmonella Typhi* exposure,  a positive Widal test alone is not definitive for active typhoid fever.  Further clinical evaluation and other diagnostic tests are necessary to confirm a diagnosis and assess the current state of infection (active or past).\n",
            "\n"
          ]
        }
      ]
    },
    {
      "cell_type": "code",
      "source": [
        "def summarize_health_report(text):\n",
        "  \"\"\"Summarize the health report using Gemini AI.\"\"\"\n",
        "  model=genai.GenerativeModel(\"gemini-1.5-flash\")\n",
        "  prompt=f\"Summarize the following health report in a concise manner:\\n\\n{text}\"\n",
        "  response=model.generate_content(prompt)\n",
        "  return response.text\n",
        "\n",
        "summary=summarize_health_report(extracted_text)\n",
        "print(\"Summary:\\n\",summary)"
      ],
      "metadata": {
        "colab": {
          "base_uri": "https://localhost:8080/",
          "height": 89
        },
        "id": "h08s-LgTEDxM",
        "outputId": "c5f89ae4-bc19-4f7f-d7ad-18ff3b1e12c1"
      },
      "execution_count": 8,
      "outputs": [
        {
          "output_type": "stream",
          "name": "stdout",
          "text": [
            "Summary:\n",
            " Mr. Kishan Goud's Widal test (MR2100003157) shows elevated titers for *Salmonella Typhi* \"O\" (1:160) and \"H\" (1:80), suggesting a possible *Salmonella Typhi* infection.  *Salmonella Paratyphi* AH and BH titers were within the normal range.\n",
            "\n"
          ]
        }
      ]
    },
    {
      "cell_type": "code",
      "source": [
        "def detect_abnormalities(text):\n",
        "  \"\"\"Analyzees lab test results and flags abnormal values.\"\"\"\n",
        "  model=genai.GenerativeModel(\"gemini-1.5-flash\")\n",
        "  prompt=f\"Analyze the lab test results in the following health report and highlight and :\\n\\n{text}\"\n",
        "  response=model.generate_content(prompt)\n",
        "  return response.text\n",
        "\n",
        "summary=detect_abnormalities(extracted_text)\n",
        "print(\"abnormalities:\\n\",summary)"
      ],
      "metadata": {
        "colab": {
          "base_uri": "https://localhost:8080/",
          "height": 297
        },
        "id": "1dJqoXB6GHOh",
        "outputId": "52726d03-40d0-40b8-fd2f-a73849e2b0a5"
      },
      "execution_count": 10,
      "outputs": [
        {
          "output_type": "stream",
          "name": "stdout",
          "text": [
            "abnormalities:\n",
            " The Widal test results show elevated antibody titers for *Salmonella Typhi* \"O\" and \"H\" antigens, indicating a possible *Salmonella Typhi* infection.\n",
            "\n",
            "Here's a breakdown:\n",
            "\n",
            "* **S. Typhi \"O\" 1:160:**  This is significantly higher than the reference range (1:20).  This is a strong positive result suggesting a past or current infection with *Salmonella Typhi* (typhoid fever). The \"O\" antigen is the somatic antigen of the bacteria.\n",
            "\n",
            "* **S. Typhi \"H\" 1:80:** This is also higher than the reference range (1:20), again suggesting a past or current *Salmonella Typhi* infection.  The \"H\" antigen is the flagellar antigen.\n",
            "\n",
            "* **S. Paratyphi \"AH\" 1:20:** This is within the reference range, suggesting no evidence of *Salmonella Paratyphi* A infection.\n",
            "\n",
            "* **S. Paratyphi \"BH\" 1:20:** This is within the reference range, suggesting no evidence of *Salmonella Paratyphi* B infection.\n",
            "\n",
            "**Conclusion:** The elevated titers for *Salmonella Typhi* \"O\" and \"H\" antigens strongly suggest a current or recent infection with *Salmonella Typhi*.  However, the Widal test is not definitive, and further investigations may be needed to confirm the diagnosis.  A positive Widal test can also be due to prior infection, vaccination or cross-reactivity.  Clinical symptoms and other lab tests are crucial for confirming the diagnosis.\n",
            "\n"
          ]
        }
      ]
    },
    {
      "cell_type": "code",
      "source": [
        "def explain_medical_terms(text):\n",
        "  \"\"\"Asks Gemini AI to simplify medical terms for patient understanding.\"\"\"\n",
        "  model=genai.GenerativeModel(\"gemini-1.5-flash\")\n",
        "  prompt=f\"Explain the medical terms in the following health report in simple language:\\n\\n{text}\"\n",
        "  response=model.generate_content(prompt)\n",
        "  return response.text\n",
        "\n",
        "explanation=explain_medical_terms(extracted_text)\n",
        "print(\"Simplified Explanation:\\n\",explanation)"
      ],
      "metadata": {
        "colab": {
          "base_uri": "https://localhost:8080/",
          "height": 297
        },
        "id": "xl5VrukmITWB",
        "outputId": "b148a9b6-de56-4488-d6b1-fbdbc19b6582"
      },
      "execution_count": 11,
      "outputs": [
        {
          "output_type": "stream",
          "name": "stdout",
          "text": [
            "Simplified Explanation:\n",
            " This report shows the results of a Widal test, a blood test used to check for antibodies against typhoid and paratyphoid fevers.  The test looks for the presence of these antibodies in different strengths (dilution).\n",
            "\n",
            "Let's break down the results:\n",
            "\n",
            "* **S. Typhi \"O\" 1:160:** This means the blood sample showed a high level of antibodies against the \"O\" antigen of *Salmonella Typhi*, the bacteria that causes typhoid fever.  The \"1:160\" indicates a significant antibody level (higher numbers mean a stronger reaction).\n",
            "\n",
            "* **S. Typhi \"H\" 1:80:**  This shows a moderate level of antibodies against the \"H\" antigen of *Salmonella Typhi*.\n",
            "\n",
            "* **S. Paratyphi \"AH\" 1:20:** This shows a normal level of antibodies against the \"AH\" antigen of *Salmonella Paratyphi A*, a bacteria that causes paratyphoid fever.  The result is within the normal reference range (1:20).\n",
            "\n",
            "* **S. Paratyphi \"BH\" 1:20:** This shows a normal level of antibodies against the \"BH\" antigen of *Salmonella Paratyphi B*, another bacteria causing paratyphoid fever. This result is also within the normal reference range (1:20).\n",
            "\n",
            "**In simple terms:** The test suggests a past or present infection with typhoid fever, given the high antibody level against *Salmonella Typhi*.  The paratyphoid results are normal. However,  a high result for S. Typhi does not definitively confirm active typhoid; further investigation might be needed to confirm a current infection.  The doctor will interpret these results in the context of Mr. Kishan Goud's symptoms and medical history.\n",
            "\n"
          ]
        }
      ]
    },
    {
      "cell_type": "code",
      "source": [],
      "metadata": {
        "id": "RTU39b2LI8fH"
      },
      "execution_count": null,
      "outputs": []
    }
  ]
}